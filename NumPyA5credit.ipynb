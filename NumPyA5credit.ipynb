{
  "nbformat": 4,
  "nbformat_minor": 0,
  "metadata": {
    "colab": {
      "provenance": []
    },
    "kernelspec": {
      "name": "python3",
      "display_name": "Python 3"
    },
    "language_info": {
      "name": "python"
    }
  },
  "cells": [
    {
      "cell_type": "code",
      "execution_count": 100,
      "metadata": {
        "id": "bcgCYW4TojCi"
      },
      "outputs": [],
      "source": [
        "import numpy as np\n",
        "\n",
        "np.random.seed(5)\n",
        "arr  = np.random.randint(0, 15, 20)\n",
        "#print(arr)\n",
        "Q1 = arr[3]\n",
        "#print(Q1)\n",
        "Q2 = arr[8:]\n",
        "#print(Q2)\n",
        "Q3 = arr[1: -1:2]\n",
        "#print(Q3)\n",
        "\n",
        "np.random.seed(6)\n",
        "arr1 = np.random.randint(0, 15, (7, 8))\n",
        "#print(arr1)\n",
        "Q4 = arr1[6, 0]\n",
        "#print(Q4)\n",
        "Q5 = arr1[:-5, 5:]\n",
        "#print(Q5)\n",
        "\n",
        "np.random.seed(10)\n",
        "arr2 = np.random.randint(0, 15, (4, 5))\n",
        "#print(arr2)\n",
        "Q6 = arr2\n",
        "arr2 = arr2[1:, :-2]\n",
        "arr2[1, 2] = 4\n",
        "#print(arr2)\n",
        "Q7 = arr2\n",
        "#print(Q7)\n",
        "\n",
        "np.random.seed(8)\n",
        "arr3 = np.random.randint(0, 15, (4, 5))\n",
        "Q8 = arr3\n",
        "arr3[2, 2] = 12 \n",
        "Q8 = arr3.copy() \n",
        "#print(Q8)\n",
        "arr3 = arr3[1:, :-2].copy()\n",
        "arr3[1, 2] = 4\n",
        "#print(arr3)\n",
        "Q9 = arr3\n",
        "\n",
        "\n",
        "np.random.seed(20)\n",
        "arr4 = np.random.randint(0, 15, (2, 6))\n",
        "arr4 = np.reshape(arr4, (4, 3))\n",
        "#print(arr4)\n",
        "Q10 = arr4\n",
        "\n",
        "np.random.seed(15)\n",
        "arr5 = np.random.randint(0, 15, 10)\n",
        "Q11 = np.vstack(arr5)\n",
        "#print(Q11)\n",
        "#Q11 = arr5\n",
        "\n",
        "np.random.seed(9)\n",
        "arr6 = np.random.randint(0, 15, (5, 3))\n",
        "Q12 = arr6[3].copy()\n",
        "#print(Q12)"
      ]
    }
  ]
}